{
  "metadata": {
    "kernelspec": {
      "name": "python",
      "display_name": "Python (Pyodide)",
      "language": "python"
    },
    "language_info": {
      "codemirror_mode": {
        "name": "python",
        "version": 3
      },
      "file_extension": ".py",
      "mimetype": "text/x-python",
      "name": "python",
      "nbconvert_exporter": "python",
      "pygments_lexer": "ipython3",
      "version": "3.8"
    }
  },
  "nbformat_minor": 5,
  "nbformat": 4,
  "cells": [
    {
      "id": "31917d56-f27f-41f8-a882-4a99c85ecef7",
      "cell_type": "code",
      "source": "#Устанавливаем библиотеки\nimport pandas as pd\nfrom sklearn.model_selection import train_test_split\nfrom sklearn.svm import SVC\nfrom sklearn.linear_model import LogisticRegression\nfrom sklearn.metrics import accuracy_score, f1_score\nfrom sklearn.preprocessing import LabelEncoder\nimport numpy as np",
      "metadata": {
        "trusted": true
      },
      "outputs": [],
      "execution_count": 1
    },
    {
      "id": "e920bf92-6cfc-4d3f-bd64-6ab826a1758e",
      "cell_type": "code",
      "source": "def classification_training(data):\n    #Трансформируем необходимый столбец в бинарный\n    y = (data['mental_wellness_index_0_100'] >= 15).astype(int)\n    # Подготовка признаков\n    # Выбираем все столбцы, кроме целевого и user id\n    feature_columns = [col for col in data.columns if col not in ['mental_wellness_index_0_100', 'user_id']]\n    X = data[feature_columns].copy()\n    \n    # Обработка категориальных признаков\n    categorical_features = ['gender', 'occupation', 'work_mode']\n    le_dict = {}\n    for feature in categorical_features:\n        if feature in X.columns:\n            le = LabelEncoder()\n            X.loc[:, feature] = le.fit_transform(X[feature].astype(str))\n            le_dict[feature] = le\n\n     # Разделение датасета на тренировочную и тестовую выборку\n    X_train, X_test, y_train, y_test = train_test_split(\n        X, y,\n        test_size=0.25,\n        shuffle=True,\n        random_state=27\n    )\n    # Обучение модели SVM\n    svm_model = SVC(\n        C=10, \n        kernel='rbf', \n        gamma='scale', \n        random_state=27 \n    )\n    svm_model.fit(X_train, y_train)\n\n    # Обучение модели логистической регрессии\n    lr_model = LogisticRegression(\n        C=1.0, \n        penalty='l2', \n        solver='liblinear', \n        random_state=27, \n        max_iter=1000 \n    )\n    lr_model.fit(X_train, y_train)\n\n    # Предсказания и оценка\n    # SVM\n    y_pred_svm = svm_model.predict(X_test)\n    svm_accuracy = accuracy_score(y_test, y_pred_svm)\n    svm_f1 = f1_score(y_test, y_pred_svm)\n\n    # LR\n    y_pred_lr = lr_model.predict(X_test)\n    lr_accuracy = accuracy_score(y_test, y_pred_lr)\n    lr_f1 = f1_score(y_test, y_pred_lr)\n\n    #Вывод результатов по шаблону\n    print(f\"SVM: {svm_accuracy:.4f}; {svm_f1:.4f}\")\n    print(f\"LR: {lr_accuracy:.4f}; {lr_f1:.4f}\")\n    ",
      "metadata": {
        "trusted": true
      },
      "outputs": [],
      "execution_count": 2
    },
    {
      "id": "c18bb4eb-1c6c-4b1b-a32d-ee3364f3f920",
      "cell_type": "code",
      "source": "#df = pd.read_csv('DB_3_cleaned.csv')\n#df.head()\n#classification_training(df)",
      "metadata": {
        "trusted": true
      },
      "outputs": [],
      "execution_count": 3
    },
    {
      "id": "b1ac6071-523f-4ec8-8b12-a22e0368ea12",
      "cell_type": "code",
      "source": "",
      "metadata": {
        "trusted": true
      },
      "outputs": [],
      "execution_count": null
    },
    {
      "id": "f7016b56-edca-4ceb-b876-494ec9d38a6c",
      "cell_type": "code",
      "source": "",
      "metadata": {
        "trusted": true
      },
      "outputs": [],
      "execution_count": null
    }
  ]
}